{
 "cells": [
  {
   "cell_type": "code",
   "execution_count": 6,
   "metadata": {},
   "outputs": [
    {
     "name": "stdout",
     "output_type": "stream",
     "text": [
      "5 8 3\n",
      "2 4 5 4 6\n",
      "46\n"
     ]
    }
   ],
   "source": [
    "N,M,K=map(int,input().split())\n",
    "arr=list(map(int,input().split()))\n",
    "arr.sort(reverse=True)\n",
    "answer,cnt=0,0\n",
    "\n",
    "max1=arr[0]\n",
    "max2=arr[1]\n",
    "\n",
    "cnt=M//K\n",
    "answer+=(cnt*K*max1)+((M%K)*max2)\n",
    "    \n",
    "print(answer)\n",
    "\n",
    "#Review) 직관적으로 이해해서 풀어보기!"
   ]
  }
 ],
 "metadata": {
  "kernelspec": {
   "display_name": "Python 3 (ipykernel)",
   "language": "python",
   "name": "python3"
  },
  "language_info": {
   "codemirror_mode": {
    "name": "ipython",
    "version": 3
   },
   "file_extension": ".py",
   "mimetype": "text/x-python",
   "name": "python",
   "nbconvert_exporter": "python",
   "pygments_lexer": "ipython3",
   "version": "3.8.5"
  }
 },
 "nbformat": 4,
 "nbformat_minor": 4
}
