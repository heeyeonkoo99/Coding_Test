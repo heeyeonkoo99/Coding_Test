{
 "cells": [
  {
   "cell_type": "code",
   "execution_count": 6,
   "metadata": {},
   "outputs": [
    {
     "name": "stdout",
     "output_type": "stream",
     "text": [
      "100 5\n",
      "5\n"
     ]
    }
   ],
   "source": [
    "N,K=map(int,input().split())\n",
    "cnt=0\n",
    "while N!=1:\n",
    "    if N%K==0:\n",
    "        cnt+=1\n",
    "        N//=K\n",
    "    else:\n",
    "        N-=1\n",
    "        cnt+=1\n",
    "    \n",
    "print(cnt)\n",
    "#Review) 테스트 케이스를 더 생각해봐야 될듯싶은데.."
   ]
  }
 ],
 "metadata": {
  "kernelspec": {
   "display_name": "Python 3 (ipykernel)",
   "language": "python",
   "name": "python3"
  },
  "language_info": {
   "codemirror_mode": {
    "name": "ipython",
    "version": 3
   },
   "file_extension": ".py",
   "mimetype": "text/x-python",
   "name": "python",
   "nbconvert_exporter": "python",
   "pygments_lexer": "ipython3",
   "version": "3.8.5"
  }
 },
 "nbformat": 4,
 "nbformat_minor": 4
}
