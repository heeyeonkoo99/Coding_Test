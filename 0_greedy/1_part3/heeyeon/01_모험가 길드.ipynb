{
 "cells": [
  {
   "cell_type": "code",
   "execution_count": 4,
   "metadata": {},
   "outputs": [
    {
     "name": "stdout",
     "output_type": "stream",
     "text": [
      "5\n",
      "2 3 1 2 2\n",
      "2\n"
     ]
    }
   ],
   "source": [
    "N=int(input())\n",
    "feared=list(map(int,input().split())) #그룹 만들어주기\n",
    "feared.sort()\n",
    "cnt,answer=0,0\n",
    "\n",
    "for i in feared:\n",
    "    cnt+=1\n",
    "    if cnt>=i:\n",
    "        cnt=0\n",
    "        answer+=1\n",
    "print(answer)\n",
    "  \n",
    "#Review) 반대로 최솟값을 구할때는 reverse해줘서 풀어주면 될것같다."
   ]
  }
 ],
 "metadata": {
  "kernelspec": {
   "display_name": "Python 3 (ipykernel)",
   "language": "python",
   "name": "python3"
  },
  "language_info": {
   "codemirror_mode": {
    "name": "ipython",
    "version": 3
   },
   "file_extension": ".py",
   "mimetype": "text/x-python",
   "name": "python",
   "nbconvert_exporter": "python",
   "pygments_lexer": "ipython3",
   "version": "3.8.5"
  }
 },
 "nbformat": 4,
 "nbformat_minor": 4
}
