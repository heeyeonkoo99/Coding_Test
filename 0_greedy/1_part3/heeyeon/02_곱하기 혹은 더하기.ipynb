{
 "cells": [
  {
   "cell_type": "code",
   "execution_count": 1,
   "metadata": {},
   "outputs": [
    {
     "name": "stdout",
     "output_type": "stream",
     "text": [
      "567\n",
      "210\n"
     ]
    }
   ],
   "source": [
    "string=str(input())\n",
    "\n",
    "# 처음에 string[0]이 0일 경우와 그렇지 않을 경우를 나누어줘야 한다. \n",
    "if string[0]==\"0\":\n",
    "    answer=int(string[1])\n",
    "    idx=2\n",
    "else:\n",
    "    answer=int(string[0])\n",
    "    idx=1\n",
    "    \n",
    "for i in string[idx:]:\n",
    "    if i==\"0\":\n",
    "        continue\n",
    "    elif i==\"1\":\n",
    "        answer+=int(i)\n",
    "    else:\n",
    "        answer*=int(i)\n",
    "print(answer)\n",
    "\n",
    "#Review) 초기조건이 중요하다."
   ]
  }
 ],
 "metadata": {
  "kernelspec": {
   "display_name": "Python 3 (ipykernel)",
   "language": "python",
   "name": "python3"
  },
  "language_info": {
   "codemirror_mode": {
    "name": "ipython",
    "version": 3
   },
   "file_extension": ".py",
   "mimetype": "text/x-python",
   "name": "python",
   "nbconvert_exporter": "python",
   "pygments_lexer": "ipython3",
   "version": "3.8.5"
  }
 },
 "nbformat": 4,
 "nbformat_minor": 4
}
