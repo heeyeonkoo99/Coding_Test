{
 "cells": [
  {
   "cell_type": "code",
   "execution_count": null,
   "metadata": {},
   "outputs": [],
   "source": [
    "string=str(input())\n",
    "zero,one=0,0 #초기화\n",
    "\n",
    "\n",
    "# 0이 나올때 one을 증가시키고 1이 나올때 zero를 증가시키는 방법으로 한다.\n",
    "\n",
    "if string[0]==\"0\":\n",
    "    one+=1\n",
    "else:\n",
    "    zero+=1\n",
    "    \n",
    "for i in range(len(string)-1):\n",
    "    if string[i]!=string[i+1] and string[i+1]==\"1\":\n",
    "        zero+=1\n",
    "    elif string[i]!= string[i+1] and string[i+1]==\"0\":\n",
    "        one+=1\n",
    "    else:\n",
    "        continue\n",
    "print(min(zero,one))\n",
    "            \n",
    "\n",
    "\n",
    "#Review) 역시나 초기화 조건이 중요하다."
   ]
  }
 ],
 "metadata": {
  "kernelspec": {
   "display_name": "Python 3 (ipykernel)",
   "language": "python",
   "name": "python3"
  },
  "language_info": {
   "codemirror_mode": {
    "name": "ipython",
    "version": 3
   },
   "file_extension": ".py",
   "mimetype": "text/x-python",
   "name": "python",
   "nbconvert_exporter": "python",
   "pygments_lexer": "ipython3",
   "version": "3.8.5"
  }
 },
 "nbformat": 4,
 "nbformat_minor": 4
}
