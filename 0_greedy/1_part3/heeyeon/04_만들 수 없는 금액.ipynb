{
 "cells": [
  {
   "cell_type": "code",
   "execution_count": 18,
   "metadata": {},
   "outputs": [
    {
     "name": "stdout",
     "output_type": "stream",
     "text": [
      "5\n",
      "3 2 1 1 9\n",
      "[(1,), (1,), (2,), (3,), (9,), (1, 1), (1, 2), (1, 3), (1, 9), (1, 2), (1, 3), (1, 9), (2, 3), (2, 9), (3, 9), (1, 1, 2), (1, 1, 3), (1, 1, 9), (1, 2, 3), (1, 2, 9), (1, 3, 9), (1, 2, 3), (1, 2, 9), (1, 3, 9), (2, 3, 9), (1, 1, 2, 3), (1, 1, 2, 9), (1, 1, 3, 9), (1, 2, 3, 9), (1, 2, 3, 9), (1, 1, 2, 3, 9)]\n",
      "[1, 2, 3, 4, 5, 6, 7, 9, 10, 11, 12, 13, 14, 15, 16]\n",
      "8\n"
     ]
    }
   ],
   "source": [
    "from itertools import combinations\n",
    "\n",
    "\n",
    "N=int(input())\n",
    "money=list(map(int,input().split()))\n",
    "money.sort()\n",
    "answer=[]\n",
    "minimum=0\n",
    "\n",
    "for i in range(1,len(money)+1):\n",
    "    answer.extend(list(combinations(money,i))) #가능한 조합 모두 구하기\n",
    "print(answer)\n",
    "for i in range(len(answer)):\n",
    "    answer[i]=sum(answer[i]) # 각 배열당 sum을 구해서 합의 조합을 구하기\n",
    "    \n",
    "answer.sort()\n",
    "answer=list(set(answer))\n",
    "\n",
    "for i in range(1,len(answer)+1):\n",
    "    if i not in answer:\n",
    "        minimum=i\n",
    "        break\n",
    "        \n",
    "print(minimum)\n",
    "\n",
    "\n",
    "#Review) 처음 알고리즘 생각하는 것이 좀 어려웠다. => 조합 사용해보는게 좋아보였음\n"
   ]
  }
 ],
 "metadata": {
  "kernelspec": {
   "display_name": "Python 3 (ipykernel)",
   "language": "python",
   "name": "python3"
  },
  "language_info": {
   "codemirror_mode": {
    "name": "ipython",
    "version": 3
   },
   "file_extension": ".py",
   "mimetype": "text/x-python",
   "name": "python",
   "nbconvert_exporter": "python",
   "pygments_lexer": "ipython3",
   "version": "3.8.5"
  }
 },
 "nbformat": 4,
 "nbformat_minor": 4
}
