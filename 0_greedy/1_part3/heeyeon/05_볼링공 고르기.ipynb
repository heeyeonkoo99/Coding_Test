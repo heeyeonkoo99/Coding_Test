{
 "cells": [
  {
   "cell_type": "code",
   "execution_count": 19,
   "metadata": {},
   "outputs": [
    {
     "name": "stdout",
     "output_type": "stream",
     "text": [
      "8 5\n",
      "1 5 4 3 2 4 5 2\n",
      "[[1, 2], [1, 2], [1, 3], [1, 4], [1, 4], [1, 5], [1, 5], [2, 4], [2, 5], [3, 2], [3, 2], [3, 4], [3, 5], [4, 2], [4, 2], [4, 2], [4, 3], [4, 5], [4, 5], [5, 2], [5, 2], [5, 2], [5, 3], [5, 4], [5, 4]]\n",
      "25\n"
     ]
    }
   ],
   "source": [
    "\n",
    "N,M=map(int,input().split())\n",
    "bowling=list(map(int,input().split()))\n",
    "answer=[]\n",
    "\n",
    "for i in range(len(bowling)-1):\n",
    "    for j in range(i+1,len(bowling)):\n",
    "        if bowling[i]!=bowling[j]:\n",
    "            answer.append([bowling[i],bowling[j]])\n",
    "        else:\n",
    "            continue\n",
    "        \n",
    "answer.sort()\n",
    "print(len(answer))\n",
    "\n",
    "\n",
    "#Review) 처음에 combinations을 이용하려 했으나 괜히 복잡해졌다. 좀더 단순하게 생각하고 문제 꼼꼼히 읽기"
   ]
  }
 ],
 "metadata": {
  "kernelspec": {
   "display_name": "Python 3 (ipykernel)",
   "language": "python",
   "name": "python3"
  },
  "language_info": {
   "codemirror_mode": {
    "name": "ipython",
    "version": 3
   },
   "file_extension": ".py",
   "mimetype": "text/x-python",
   "name": "python",
   "nbconvert_exporter": "python",
   "pygments_lexer": "ipython3",
   "version": "3.8.5"
  }
 },
 "nbformat": 4,
 "nbformat_minor": 4
}
