{
 "cells": [
  {
   "cell_type": "code",
   "execution_count": null,
   "metadata": {},
   "outputs": [],
   "source": [
    "# 내가 실패한 코드-실행시간 초과\n",
    "def solution(food_times, k):\n",
    "    answer=0\n",
    "    idx=0\n",
    "    cnt=0\n",
    "    while True:\n",
    "        if cnt==k:\n",
    "            return idx\n",
    "        if idx==len(food_times):\n",
    "            idx=0\n",
    "        if food_times[idx]==0:\n",
    "            continue\n",
    "        food_times[idx]-=1\n",
    "        idx+=1\n",
    "        cnt+=1"
   ]
  },
  {
   "cell_type": "code",
   "execution_count": null,
   "metadata": {},
   "outputs": [],
   "source": [
    "# 올바른 풀이\n",
    "\n",
    "import heapq\n",
    "def solution(food_times, k):\n",
    "    # base case\n",
    "    if sum(food_times) <= k:\n",
    "        return -1\n",
    "    \n",
    "    # 시간이 작은 음식부터 빼야 하므로 우선순위 큐 이용\n",
    "    q = []\n",
    "    for i in range(len(food_times)):\n",
    "        # (음식 시간, 음식 번호) 튜플 삽입\n",
    "        heapq.heappush(q, (food_times[i], i + 1))\n",
    "        \n",
    "    sum_value = 0 # 먹기 위한 시간 초기화\n",
    "    previous = 0 # 직전에 다 먹은 음식 시간\n",
    "    \n",
    "    length = len(food_times)\n",
    "    \n",
    "    # sum_value + (현재 음식 시간 - 이전 음식 시간) x 현재 음식 개수와 k 비교\n",
    "    while sum_value + ((q[0][0] - previous) * length) <= k:\n",
    "        now = heapq.heappop(q)[0]\n",
    "        sum_value += (now - previous) * length\n",
    "        length -= 1 # 다 먹은 음식 제외\n",
    "        previous = now # 이전 음식 시간 재설정\n",
    "        \n",
    "    result = sorted(q, key=lambda x: x[1]) # 음식 번호 기준으로 정렬\n",
    "    return result[(k - sum_value) % length][1]\n",
    "\n",
    "# Review) heapq사용법이 아직 익숙치 않다. 능숙하게 쓸수 있도록 하자."
   ]
  }
 ],
 "metadata": {
  "kernelspec": {
   "display_name": "Python 3 (ipykernel)",
   "language": "python",
   "name": "python3"
  },
  "language_info": {
   "codemirror_mode": {
    "name": "ipython",
    "version": 3
   },
   "file_extension": ".py",
   "mimetype": "text/x-python",
   "name": "python",
   "nbconvert_exporter": "python",
   "pygments_lexer": "ipython3",
   "version": "3.8.5"
  }
 },
 "nbformat": 4,
 "nbformat_minor": 4
}
