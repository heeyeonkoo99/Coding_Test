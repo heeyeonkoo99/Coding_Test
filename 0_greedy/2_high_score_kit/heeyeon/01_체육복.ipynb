{
 "cells": [
  {
   "cell_type": "code",
   "execution_count": null,
   "metadata": {},
   "outputs": [],
   "source": [
    "# 풀이1\n",
    "def solution(n,lost,reverse):\n",
    "    \n",
    "    for r in reverse[:]:\n",
    "        for r in lost:\n",
    "            reserve.remove(r)\n",
    "            lost.remove(r) # 체육복이 있음에도 도난당했으니까 없는셈 치는것이다.\n",
    "    for l in lost{:}:\n",
    "        for l-1 in reverse: # 앞사람이 여벌을 가지고 있을때\n",
    "            reserve.remove(l-1)\n",
    "            lost.remove(l)\n",
    "        for l+1 in reverse:\n",
    "            reserve.remove(l+1) # 뒷사람이 여벌을 가지고 있을때\n",
    "            lost.remove(l)\n",
    "    return n-len(lost)"
   ]
  },
  {
   "cell_type": "code",
   "execution_count": null,
   "metadata": {},
   "outputs": [],
   "source": [
    "# 풀이2\n",
    "def solution(n, lost, reserve):\n",
    "    new_lost = set(lost) - set(reserve)\n",
    "    new_reserve = set(reserve) - set(lost)\n",
    "    for i in new_lost:\n",
    "        if i + 1 in new_reserve:\n",
    "            new_reserve.remove(i + 1)\n",
    "        elif i - 1 in new_reserve:\n",
    "            new_reserve.remove(i - 1)\n",
    "        else:\n",
    "            n-=1\n",
    "    return n\n",
    "# Review) 결국 여기서도 set를 사용해서 '여벌의 체육복을 가진 사람이 도난 당한 경우'고려해준것이다."
   ]
  }
 ],
 "metadata": {
  "kernelspec": {
   "display_name": "Python 3 (ipykernel)",
   "language": "python",
   "name": "python3"
  },
  "language_info": {
   "codemirror_mode": {
    "name": "ipython",
    "version": 3
   },
   "file_extension": ".py",
   "mimetype": "text/x-python",
   "name": "python",
   "nbconvert_exporter": "python",
   "pygments_lexer": "ipython3",
   "version": "3.8.5"
  }
 },
 "nbformat": 4,
 "nbformat_minor": 4
}
