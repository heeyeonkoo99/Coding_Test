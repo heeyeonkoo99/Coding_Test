{
 "cells": [
  {
   "cell_type": "code",
   "execution_count": null,
   "metadata": {},
   "outputs": [],
   "source": [
    "def solution(name):\n",
    "    result=0\n",
    "    for i in name:\n",
    "        result+=min(abs(ord(i)-65),abs(122-ord(i)))\n",
    "    current=0\n",
    "    name=list(name)\n",
    "    while True:\n",
    "        name[current]=\"0\"\n",
    "        temp=\"\".join(name)\n",
    "        if temp==\"0\"*len(name):\n",
    "            break\n",
    "        r,l=1,1\n",
    "        while name[current+r]==\"A\":\n",
    "            r+=1\n",
    "        while name[current-l]==\"A\":\n",
    "            l+=1\n",
    "        if l<=r:\n",
    "            current=l\n",
    "            result+=l\n",
    "        else:\n",
    "            current=r\n",
    "            result+=r\n",
    "    return result\n",
    "\n",
    "\n",
    "# Review) 이건 내가 작성한 코드인데 시간이 자꾸 초과된다.. 처음에 result를 더하는것이 아니라 아예 원소자체를 변환해주는 것이 더 편해보인다."
   ]
  },
  {
   "cell_type": "code",
   "execution_count": null,
   "metadata": {},
   "outputs": [],
   "source": [
    "# 올바른 풀이\n",
    "def solution(name):\n",
    "    moves=[min(ord(s)-ord('A'),ord('Z')-ord(s)+1) for s in name]\n",
    "    pos=0\n",
    "    answer=0\n",
    "    \n",
    "    while True:\n",
    "        answer+=moves[pos]\n",
    "        moves[pos]=0\n",
    "        \n",
    "        if sum(moves)==0:\n",
    "            break\n",
    "        left=1\n",
    "        right=1\n",
    "        while moves[pos-left]==0:\n",
    "            left+=1\n",
    "        while moves[pos+right]==0:\n",
    "            right+=1\n",
    "        if left>=right:\n",
    "            pos+=right\n",
    "            answer+=right\n",
    "        else:\n",
    "            pos-=left\n",
    "            answer+=left\n",
    "    return answer"
   ]
  }
 ],
 "metadata": {
  "kernelspec": {
   "display_name": "Python 3 (ipykernel)",
   "language": "python",
   "name": "python3"
  },
  "language_info": {
   "codemirror_mode": {
    "name": "ipython",
    "version": 3
   },
   "file_extension": ".py",
   "mimetype": "text/x-python",
   "name": "python",
   "nbconvert_exporter": "python",
   "pygments_lexer": "ipython3",
   "version": "3.8.5"
  }
 },
 "nbformat": 4,
 "nbformat_minor": 4
}
