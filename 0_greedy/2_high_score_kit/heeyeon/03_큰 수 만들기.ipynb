{
 "cells": [
  {
   "cell_type": "code",
   "execution_count": 24,
   "metadata": {},
   "outputs": [
    {
     "data": {
      "text/plain": [
       "'94'"
      ]
     },
     "execution_count": 24,
     "metadata": {},
     "output_type": "execute_result"
    }
   ],
   "source": [
    "# 내가 푼 풀이\n",
    "from itertools import combinations \n",
    "\n",
    "def solution(number,k):\n",
    "    length=len(str(number))-k\n",
    "    temp=list(combinations(list(number),length))\n",
    "    temp.sort(reverse=True)\n",
    "    #print(temp)\n",
    "    while True:\n",
    "        for i in temp:\n",
    "            idx,cnt=0,0\n",
    "            for j in range(len(number)):\n",
    "                if number[j]==i[idx]:\n",
    "                    idx+=1\n",
    "                    cnt+=1\n",
    "                if cnt==length:\n",
    "                    return \"\".join(i)\n",
    "solution(\"1924\",2)\n",
    "# Review) combinations을 이용해서 풀어서 테케에서 시간초과로 실패하는 경우가 꽤나 많았다. 흐음..\n",
    "# 이유로는 어찌됐건 number가 1,000,000자리까지 가질수 있기 때문이다. 보다 효율적으로 가야한다. "
   ]
  },
  {
   "cell_type": "code",
   "execution_count": null,
   "metadata": {},
   "outputs": [],
   "source": [
    "# 올바른 풀이-1\n",
    "def solution(number,k):\n",
    "    collected=[]\n",
    "    for (i,num) in enumerate(number):\n",
    "        while collected and collected[-1]<num and k>0:\n",
    "            collected.pop()\n",
    "            k-=1\n",
    "        if k==0:\n",
    "            collected.append(number[i:])\n",
    "            break\n",
    "        collected.append(num)\n",
    "    collected=collected[:-k] if k>0 else collected\n",
    "    answer=\"\".join(collected)\n",
    "    return answer"
   ]
  },
  {
   "cell_type": "code",
   "execution_count": 26,
   "metadata": {},
   "outputs": [],
   "source": [
    "# 올바른 풀이-2\n",
    "def solution(number,k):\n",
    "    answer=\"\"\n",
    "    stack=[]\n",
    "    length=len(str(number))-k\n",
    "    for i in number:\n",
    "        while stack and stack[-1]<i and k>0:\n",
    "            k-=1\n",
    "            stack.pop()\n",
    "        stack.append(i)\n",
    "    return \"\".join(stack[:length]) # 만약 k개를 삭제하지 못하는 경우라면 문자열의 k자리수만큼 지우고 리턴한다. (우선 append시키고 비교)\n",
    "# Review) 올바른 풀이-1과 같은 맥락인데 더 간단하다.이럴 경우 stack을 써주나 보다.\n",
    "# 참고) https://gurumee92.tistory.com/162\n",
    "# 앞자리를 최고 큰수로 만들기 전략"
   ]
  }
 ],
 "metadata": {
  "kernelspec": {
   "display_name": "Python 3 (ipykernel)",
   "language": "python",
   "name": "python3"
  },
  "language_info": {
   "codemirror_mode": {
    "name": "ipython",
    "version": 3
   },
   "file_extension": ".py",
   "mimetype": "text/x-python",
   "name": "python",
   "nbconvert_exporter": "python",
   "pygments_lexer": "ipython3",
   "version": "3.8.5"
  }
 },
 "nbformat": 4,
 "nbformat_minor": 4
}
