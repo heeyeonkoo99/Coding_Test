{
 "cells": [
  {
   "cell_type": "code",
   "execution_count": null,
   "metadata": {},
   "outputs": [],
   "source": [
    "def solution(people,limit):\n",
    "    people.sort()\n",
    "    cnt=0\n",
    "    i,j=0,len(people)-1\n",
    "    while i<=j:\n",
    "        if people[i]+people[j]<=limit:\n",
    "            i+=1\n",
    "        j-=1 # 둘이 합쳐서 limit를 넘어가면 무거운 사람한테 보트를 준다.\n",
    "        cnt+=1 #보트개수 늘려주기\n",
    "    return cnt"
   ]
  }
 ],
 "metadata": {
  "kernelspec": {
   "display_name": "Python 3 (ipykernel)",
   "language": "python",
   "name": "python3"
  },
  "language_info": {
   "codemirror_mode": {
    "name": "ipython",
    "version": 3
   },
   "file_extension": ".py",
   "mimetype": "text/x-python",
   "name": "python",
   "nbconvert_exporter": "python",
   "pygments_lexer": "ipython3",
   "version": "3.8.5"
  }
 },
 "nbformat": 4,
 "nbformat_minor": 4
}
