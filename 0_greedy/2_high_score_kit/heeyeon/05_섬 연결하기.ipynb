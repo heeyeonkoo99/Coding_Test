{
 "cells": [
  {
   "cell_type": "code",
   "execution_count": null,
   "metadata": {},
   "outputs": [],
   "source": [
    "#이코테 크루스칼 알고리즘은..\n",
    "# 특정 원소가 속한 집합 찾기\n",
    "def find_parent(parent, x):\n",
    "    if parent[x]!=x:\n",
    "        parent[x]=find_parent(parent, parent[x])\n",
    "    return parent[x]\n",
    "\n",
    "# 두 원소가 속한 집합 합치기\n",
    "def union_parent(parent,a,b):\n",
    "    a=find_parent(parent,a)\n",
    "    b=find_parent(parent,b)\n",
    "    if a<b:\n",
    "        parent[b]=a\n",
    "    else:\n",
    "        print[a]=b\n",
    "\n",
    "# 노드의 개수와 간선(union 연산)의 개수 입력 받기\n",
    "v,e=map(int,input().split())\n",
    "parent=[0]*(v+1) # 부모 테이블 초기화\n",
    "\n",
    "# 모든 간선을 담을 리스트와 최종 비용을 담은 변수\n",
    "edges=[]\n",
    "result=0\n",
    "\n",
    "# 부모 테이블상에서, 부모를 자기 자신으로 치기화\n",
    "for i in range(1,v+1):\n",
    "    parent[i]=i\n",
    "\n",
    "#모든 간선에 대한 정보를 입력받기\n",
    "for _ in range(e):\n",
    "    a,b,cost=map(int,input().split())\n",
    "    # 비용순으로 정렬하기 위해서 튜플의 첫 번째 원소를 비용으로 설정\n",
    "    edges.append((cost,a,b))\n",
    "\n",
    "# 간선을 비용순으로 정렬\n",
    "edges.sort()\n",
    "\n",
    "# 간선을 하나씩 확인하며\n",
    "for edge in edges:\n",
    "    cost,a,b=edge\n",
    "    # 사이클이 발생하지 않은 경우에만 집합을 포함\n",
    "    if find_parent(parent,a)!=find_parent(parent,b):\n",
    "        union_parent(parent,a,b)\n",
    "        result+=cost\n",
    "\n",
    "print(result)\n"
   ]
  },
  {
   "cell_type": "code",
   "execution_count": 1,
   "metadata": {},
   "outputs": [],
   "source": [
    "def solution(n, costs):\n",
    "    # kruskal algorithm\n",
    "    ans = 0\n",
    "    costs.sort(key = lambda x: x[2]) # cost 기준으로 오름차순 정렬\n",
    "    routes = set([costs[0][0]]) # 집합\n",
    "    while len(routes)!=n:\n",
    "        for i, cost in enumerate(costs):\n",
    "            if cost[0] in routes and cost[1] in routes:\n",
    "                continue\n",
    "            if cost[0] in routes or cost[1] in routes:\n",
    "                routes.update([cost[0], cost[1]])\n",
    "                ans += cost[2]\n",
    "                costs[i] = [-1, -1, -1]\n",
    "                break\n",
    "    return ans"
   ]
  }
 ],
 "metadata": {
  "kernelspec": {
   "display_name": "Python 3 (ipykernel)",
   "language": "python",
   "name": "python3"
  },
  "language_info": {
   "codemirror_mode": {
    "name": "ipython",
    "version": 3
   },
   "file_extension": ".py",
   "mimetype": "text/x-python",
   "name": "python",
   "nbconvert_exporter": "python",
   "pygments_lexer": "ipython3",
   "version": "3.8.5"
  }
 },
 "nbformat": 4,
 "nbformat_minor": 4
}
