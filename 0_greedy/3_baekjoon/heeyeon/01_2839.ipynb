{
 "cells": [
  {
   "cell_type": "code",
   "execution_count": 5,
   "metadata": {},
   "outputs": [
    {
     "name": "stdout",
     "output_type": "stream",
     "text": [
      "18\n",
      "4\n"
     ]
    }
   ],
   "source": [
    "N=int(input())\n",
    "cnt=0\n",
    "while True:\n",
    "    if N%5==0:\n",
    "        cnt+=N//5\n",
    "        print(cnt)\n",
    "        break\n",
    "    N-=3\n",
    "    cnt+=1\n",
    "    if N<0:\n",
    "        print(-1)\n",
    "        break\n",
    "\n",
    "#Review) 만일 5의배수가 아닐경우 먼저 5의 배수가 되게끔 어쨋거나 3을 빼줘야한다."
   ]
  }
 ],
 "metadata": {
  "kernelspec": {
   "display_name": "Python 3 (ipykernel)",
   "language": "python",
   "name": "python3"
  },
  "language_info": {
   "codemirror_mode": {
    "name": "ipython",
    "version": 3
   },
   "file_extension": ".py",
   "mimetype": "text/x-python",
   "name": "python",
   "nbconvert_exporter": "python",
   "pygments_lexer": "ipython3",
   "version": "3.8.5"
  }
 },
 "nbformat": 4,
 "nbformat_minor": 4
}
