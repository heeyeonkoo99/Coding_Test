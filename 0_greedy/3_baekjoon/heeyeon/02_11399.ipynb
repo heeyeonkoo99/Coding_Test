{
 "cells": [
  {
   "cell_type": "code",
   "execution_count": 2,
   "metadata": {},
   "outputs": [
    {
     "name": "stdout",
     "output_type": "stream",
     "text": [
      "5\n",
      "3 1 4 3 2\n",
      "32\n"
     ]
    }
   ],
   "source": [
    "N=int(input())\n",
    "people=list(map(int,input().split()))\n",
    "result=0\n",
    "people.sort()\n",
    "\n",
    "for i in range(len(people)):\n",
    "    result+=sum(people[:i+1])\n",
    "print(result)\n",
    "\n",
    "# Review) 어차피 계속 더해주는 거니까 sum을 이용한다!"
   ]
  }
 ],
 "metadata": {
  "kernelspec": {
   "display_name": "Python 3 (ipykernel)",
   "language": "python",
   "name": "python3"
  },
  "language_info": {
   "codemirror_mode": {
    "name": "ipython",
    "version": 3
   },
   "file_extension": ".py",
   "mimetype": "text/x-python",
   "name": "python",
   "nbconvert_exporter": "python",
   "pygments_lexer": "ipython3",
   "version": "3.8.5"
  }
 },
 "nbformat": 4,
 "nbformat_minor": 4
}
