{
 "cells": [
  {
   "cell_type": "code",
   "execution_count": null,
   "metadata": {},
   "outputs": [],
   "source": [
    "N,K=map(int,input().split())\n",
    "money=[]\n",
    "result=0\n",
    "for _ in range(N):\n",
    "    money.append(int(input()))\n",
    "money.sort(reverse=True)\n",
    "for i in money:\n",
    "    if K>=i:\n",
    "        result+=K//i\n",
    "        K-=i*(K//i)\n",
    "print(result)\n",
    "# Review) money안에 있는 원소중에 K보다 작을 경우에 그것을 나눠서 생긴 몫을 더해주고 K또한 바뀌어야한다."
   ]
  }
 ],
 "metadata": {
  "kernelspec": {
   "display_name": "Python 3 (ipykernel)",
   "language": "python",
   "name": "python3"
  },
  "language_info": {
   "codemirror_mode": {
    "name": "ipython",
    "version": 3
   },
   "file_extension": ".py",
   "mimetype": "text/x-python",
   "name": "python",
   "nbconvert_exporter": "python",
   "pygments_lexer": "ipython3",
   "version": "3.8.5"
  }
 },
 "nbformat": 4,
 "nbformat_minor": 4
}
