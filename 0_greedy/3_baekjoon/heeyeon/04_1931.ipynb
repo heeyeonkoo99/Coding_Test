{
 "cells": [
  {
   "cell_type": "code",
   "execution_count": null,
   "metadata": {},
   "outputs": [],
   "source": [
    "N=int(input())\n",
    "meeting=[]\n",
    "for _ in range(N):\n",
    "    a,b=map(int,input().split())\n",
    "    meeting.append([a,b])\n",
    "meeting.sort(key=lambda x: x[0])\n",
    "meeting.sort(key=lambda x: x[1])\n",
    "end,cnt=0,0\n",
    "\n",
    "for a,b in meeting:\n",
    "    if a>=end:\n",
    "        cnt+=1\n",
    "        end=b\n",
    "print(cnt)\n",
    "\n",
    "# Review) 여기서 중요한 점은 sort할떄 회의의 시작/끝나는 시간이 같을수 있다는 점이다. 이부분에 유의하자."
   ]
  }
 ],
 "metadata": {
  "kernelspec": {
   "display_name": "Python 3 (ipykernel)",
   "language": "python",
   "name": "python3"
  },
  "language_info": {
   "codemirror_mode": {
    "name": "ipython",
    "version": 3
   },
   "file_extension": ".py",
   "mimetype": "text/x-python",
   "name": "python",
   "nbconvert_exporter": "python",
   "pygments_lexer": "ipython3",
   "version": "3.8.5"
  }
 },
 "nbformat": 4,
 "nbformat_minor": 4
}
