{
 "cells": [
  {
   "cell_type": "code",
   "execution_count": null,
   "metadata": {},
   "outputs": [],
   "source": [
    "N=int(input())\n",
    "direction=list(map(str,input().split()))\n",
    "cur=[1,1]\n",
    "answer=0\n",
    "\n",
    "for i in direction:\n",
    "    if i==\"L\": # \"열\"을 봐야함\n",
    "        if cur[1]>1:\n",
    "            cur[1]-=1\n",
    "    elif i==\"U\": # \"행\"을 봐야함\n",
    "        if cur[0]>1:\n",
    "            cur[0]-=1\n",
    "    elif i==\"R\": # \"열\"을 봐야함\n",
    "        if cur[1]<n:\n",
    "            cur[1]+=1\n",
    "    elif i==\"D\": # \"행\"을 봐야함\n",
    "        if cur[1]<n:\n",
    "            cur[0]+=1\n",
    "answer=cur\n",
    "print(answer[0],answer[1])\n",
    "            \n",
    "    \n",
    "    "
   ]
  },
  {
   "cell_type": "code",
   "execution_count": null,
   "metadata": {},
   "outputs": [],
   "source": [
    "# 이코테 풀이\n",
    "n=int(input())\n",
    "x,y=1,1\n",
    "plans=input().split()\n",
    "\n",
    "dx=[0,0,-1,1]\n",
    "dy=[-1,1,0,0]\n",
    "move_types=[\"L\",\"R\",\"U\",\"D\"]\n",
    "\n",
    "for plan in plans:\n",
    "    for i in range(len(move_types)):\n",
    "        if plan==move_types[i]:\n",
    "            nx=x+dx[i]\n",
    "            ny=y+dy[i]\n",
    "    if nx<1 or ny<1 or nx>n or ny>n:\n",
    "        continue\n",
    "    x,y=nx,ny\n",
    "    \n",
    "print(x,y)"
   ]
  }
 ],
 "metadata": {
  "kernelspec": {
   "display_name": "Python 3 (ipykernel)",
   "language": "python",
   "name": "python3"
  },
  "language_info": {
   "codemirror_mode": {
    "name": "ipython",
    "version": 3
   },
   "file_extension": ".py",
   "mimetype": "text/x-python",
   "name": "python",
   "nbconvert_exporter": "python",
   "pygments_lexer": "ipython3",
   "version": "3.8.5"
  }
 },
 "nbformat": 4,
 "nbformat_minor": 4
}
