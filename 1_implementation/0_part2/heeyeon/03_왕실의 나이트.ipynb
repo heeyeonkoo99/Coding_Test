{
 "cells": [
  {
   "cell_type": "code",
   "execution_count": 1,
   "metadata": {},
   "outputs": [
    {
     "name": "stdout",
     "output_type": "stream",
     "text": [
      "a1\n",
      "2\n"
     ]
    }
   ],
   "source": [
    "location=input()\n",
    "answer=0\n",
    "\n",
    "c=ord(location[0])-96 #column\n",
    "r=int(location[1]) #row\n",
    "\n",
    "steps = [ (-2, -1), (-2, 1), (-1, -2), (-1, 2), (1, -2), (1, 2), (2, -1), (2, 1) ]\n",
    "\n",
    "for step in steps:\n",
    "    nc=c+step[0]\n",
    "    nr=r+step[1]\n",
    "    \n",
    "    if 1<=nc<=8 and 1<=nr<=8:\n",
    "        answer+=1\n",
    "print(answer)\n",
    "    \n",
    "#Review) 입력된 위치에서 steps를 돌려주고 이때 범위를 벗어나지 않는다면 answer을 증가시킨다."
   ]
  }
 ],
 "metadata": {
  "kernelspec": {
   "display_name": "Python 3 (ipykernel)",
   "language": "python",
   "name": "python3"
  },
  "language_info": {
   "codemirror_mode": {
    "name": "ipython",
    "version": 3
   },
   "file_extension": ".py",
   "mimetype": "text/x-python",
   "name": "python",
   "nbconvert_exporter": "python",
   "pygments_lexer": "ipython3",
   "version": "3.8.5"
  }
 },
 "nbformat": 4,
 "nbformat_minor": 4
}
