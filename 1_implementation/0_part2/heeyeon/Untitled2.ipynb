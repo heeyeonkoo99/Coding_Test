{
 "cells": [
  {
   "cell_type": "code",
   "execution_count": 2,
   "metadata": {},
   "outputs": [
    {
     "name": "stdout",
     "output_type": "stream",
     "text": [
      "5\n",
      "11475\n"
     ]
    }
   ],
   "source": [
    "cnt=0\n",
    "idx=\"\"\n",
    "hour,minute,second=int(input()),60,60\n",
    "for h in range(hour+1):\n",
    "    for m in range(minute):\n",
    "        for s in range(second):\n",
    "            idx=str(str(h).find(\"3\"))+str(str(m).find(\"3\"))+str(str(s).find(\"3\"))\n",
    "            #print(idx)\n",
    "            if idx!=\"-1-1-1\":\n",
    "                cnt+=1\n",
    "\n",
    "    \n",
    "print(cnt)"
   ]
  },
  {
   "cell_type": "code",
   "execution_count": null,
   "metadata": {},
   "outputs": [],
   "source": []
  }
 ],
 "metadata": {
  "kernelspec": {
   "display_name": "Python 3 (ipykernel)",
   "language": "python",
   "name": "python3"
  },
  "language_info": {
   "codemirror_mode": {
    "name": "ipython",
    "version": 3
   },
   "file_extension": ".py",
   "mimetype": "text/x-python",
   "name": "python",
   "nbconvert_exporter": "python",
   "pygments_lexer": "ipython3",
   "version": "3.8.5"
  }
 },
 "nbformat": 4,
 "nbformat_minor": 4
}
