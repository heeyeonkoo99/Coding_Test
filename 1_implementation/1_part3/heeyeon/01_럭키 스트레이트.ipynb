{
 "cells": [
  {
   "cell_type": "code",
   "execution_count": null,
   "metadata": {},
   "outputs": [],
   "source": [
    "score=str(input())\n",
    "divide=len(score)//2-1\n",
    "left,right=0,0\n",
    "\n",
    "\n",
    "for i in range(divide+1):\n",
    "    left+=int(score[i])\n",
    "    \n",
    "for i in range(divide+1, len(score)):\n",
    "    right+=int(score[i])\n",
    "    \n",
    "if left==right:\n",
    "    print(\"LUCKY\")\n",
    "else:\n",
    "    print(\"READY\")\n",
    "    \n",
    "\n",
    "#Review) 아예 애초부터 입력을 int이 아니라 str로 받자!"
   ]
  }
 ],
 "metadata": {
  "kernelspec": {
   "display_name": "Python 3 (ipykernel)",
   "language": "python",
   "name": "python3"
  },
  "language_info": {
   "codemirror_mode": {
    "name": "ipython",
    "version": 3
   },
   "file_extension": ".py",
   "mimetype": "text/x-python",
   "name": "python",
   "nbconvert_exporter": "python",
   "pygments_lexer": "ipython3",
   "version": "3.8.5"
  }
 },
 "nbformat": 4,
 "nbformat_minor": 4
}
