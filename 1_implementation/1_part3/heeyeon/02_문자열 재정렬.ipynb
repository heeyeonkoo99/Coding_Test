{
 "cells": [
  {
   "cell_type": "code",
   "execution_count": 4,
   "metadata": {},
   "outputs": [
    {
     "name": "stdout",
     "output_type": "stream",
     "text": [
      "AJKDLSI412K4JSJ9D\n",
      "ADDIJJJKKLSS20\n"
     ]
    }
   ],
   "source": [
    "thing=str(input())\n",
    "answer=\"\"\n",
    "digit=0\n",
    "alphabet=[]\n",
    "\n",
    "for i in thing:\n",
    "    if i.isdigit()==True:\n",
    "        digit+=int(i)\n",
    "    else:\n",
    "        alphabet.append(i)\n",
    "alphabet.sort()\n",
    "for i in alphabet:\n",
    "    answer+=i\n",
    "answer+=str(digit)\n",
    "print(answer)\n",
    "        \n",
    "\n",
    "\n",
    "#Review) 비교적 간단하다. 문자열 잘 다룰수 있는지를 보는거다."
   ]
  }
 ],
 "metadata": {
  "kernelspec": {
   "display_name": "Python 3 (ipykernel)",
   "language": "python",
   "name": "python3"
  },
  "language_info": {
   "codemirror_mode": {
    "name": "ipython",
    "version": 3
   },
   "file_extension": ".py",
   "mimetype": "text/x-python",
   "name": "python",
   "nbconvert_exporter": "python",
   "pygments_lexer": "ipython3",
   "version": "3.8.5"
  }
 },
 "nbformat": 4,
 "nbformat_minor": 4
}
