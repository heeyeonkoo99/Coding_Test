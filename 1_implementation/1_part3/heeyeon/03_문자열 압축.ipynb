{
 "cells": [
  {
   "cell_type": "code",
   "execution_count": null,
   "metadata": {},
   "outputs": [],
   "source": [
    "def solution(s):\n",
    "    length=[]\n",
    "    result=\"\"\n",
    "    \n",
    "    if len(s)==1:\n",
    "        return 1\n",
    "    \n",
    "    \n",
    "    for cut in range(1,len(s)//2+1):\n",
    "        tempStr=s[:cut]\n",
    "        count=1\n",
    "        for i in range(cut,len(s),cut):\n",
    "            if s[i:i+cut]==tempStr:\n",
    "                count+=1\n",
    "            else:\n",
    "                if count==1:\n",
    "                    count=\"\"\n",
    "                result+=str(count)+tempStr\n",
    "                tempStr=s[i:i+cut]\n",
    "                count=1\n",
    "        if count==1:\n",
    "            count=\"\"\n",
    "        result+=str(count)+tempStr\n",
    "        length.append(len(result))\n",
    "        result=\"\"\n",
    "    return (min(length))\n",
    "\n",
    "# Review) 이건 정답코드를 참고했다. 도저히 시간초과나고 해결이 안된다.ㅠㅠ어떤식으로 작동하는지 그 알고리즘을 이해하자."
   ]
  },
  {
   "cell_type": "code",
   "execution_count": 4,
   "metadata": {},
   "outputs": [
    {
     "name": "stdout",
     "output_type": "stream",
     "text": [
      "aa11\n"
     ]
    }
   ],
   "source": [
    "s=str(input())\n",
    "\n",
    "\n",
    "def sol(s):\n",
    "    if len(s)==1:\n",
    "        return s\n",
    "    cnt=1\n",
    "    \n",
    "    while cnt!=len(s)//2+1:\n",
    "        stack=[]\n",
    "        for i in range(0,len(s),cnt):\n",
    "            stack.append(i)\n",
    "        print(stack)\n",
    "        cnt+=1\n",
    "        \n",
    "    \n",
    "    \n",
    "    "
   ]
  },
  {
   "cell_type": "code",
   "execution_count": null,
   "metadata": {},
   "outputs": [],
   "source": []
  }
 ],
 "metadata": {
  "kernelspec": {
   "display_name": "Python 3 (ipykernel)",
   "language": "python",
   "name": "python3"
  },
  "language_info": {
   "codemirror_mode": {
    "name": "ipython",
    "version": 3
   },
   "file_extension": ".py",
   "mimetype": "text/x-python",
   "name": "python",
   "nbconvert_exporter": "python",
   "pygments_lexer": "ipython3",
   "version": "3.8.5"
  }
 },
 "nbformat": 4,
 "nbformat_minor": 4
}
