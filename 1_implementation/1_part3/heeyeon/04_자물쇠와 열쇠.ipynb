{
 "cells": [
  {
   "cell_type": "code",
   "execution_count": null,
   "metadata": {},
   "outputs": [],
   "source": [
    "# 정답코드다..이런건 어떻게 푸는건지! 그림을 그려야되나보다\n",
    "def attach(x,y,M,key,board):\n",
    "    for i in range(M):\n",
    "        for j in range(M):\n",
    "            board[x+i][y+j]+=key[i][j]\n",
    "\n",
    "def detach(x,y,M,key,board):\n",
    "    for i in range(M):\n",
    "        for j in range(M):\n",
    "            board[x+i][y+j]-=key[i][j]\n",
    "def rotate90(arr):\n",
    "    return list(zip(*arr[::-1]))\n",
    "\n",
    "def check(board,M,N):\n",
    "    for i in range(N):\n",
    "        for j in range(N):\n",
    "            if board[M+i][M+j]!=1:\n",
    "                return False\n",
    "    return True\n",
    "\n",
    "def solution(key,lock):\n",
    "    M, N = len(key), len(lock)\n",
    "\n",
    "    board = [[0] * (M*2 + N) for _ in range(M*2 + N)]\n",
    "    # 자물쇠 중앙 배치\n",
    "    for i in range(N):\n",
    "        for j in range(N):\n",
    "            board[M+i][M+j] = lock[i][j]\n",
    "\n",
    "    rotated_key = key\n",
    "    # 모든 방향 (4번 루프)\n",
    "    for _ in range(4):\n",
    "        rotated_key = rotate90(rotated_key)\n",
    "        for x in range(1, M+N):\n",
    "            for y in range(1, M+N):\n",
    "                # 열쇠 넣어보기\n",
    "                attach(x, y, M, rotated_key, board)\n",
    "                # lock 가능 check\n",
    "                if(check(board, M, N)):\n",
    "                    return True\n",
    "                # 열쇠 빼기\n",
    "                detach(x, y, M, rotated_key, board)\n",
    "                \n",
    "    return False\n",
    "    "
   ]
  }
 ],
 "metadata": {
  "kernelspec": {
   "display_name": "Python 3 (ipykernel)",
   "language": "python",
   "name": "python3"
  },
  "language_info": {
   "codemirror_mode": {
    "name": "ipython",
    "version": 3
   },
   "file_extension": ".py",
   "mimetype": "text/x-python",
   "name": "python",
   "nbconvert_exporter": "python",
   "pygments_lexer": "ipython3",
   "version": "3.8.5"
  }
 },
 "nbformat": 4,
 "nbformat_minor": 4
}
