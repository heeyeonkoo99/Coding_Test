{
 "cells": [
  {
   "cell_type": "code",
   "execution_count": 12,
   "metadata": {},
   "outputs": [
    {
     "name": "stdout",
     "output_type": "stream",
     "text": [
      "k1ka5cb7\n",
      "abckk13\n"
     ]
    }
   ],
   "source": [
    "sequence=str(input())\n",
    "answer=[]\n",
    "num=[]\n",
    "N=0\n",
    "\n",
    "for i in sequence:\n",
    "    if i.isdigit()==True:\n",
    "        num.append(int(i))\n",
    "    else:\n",
    "        answer.append(i)\n",
    "\n",
    "answer.sort()\n",
    "answer.append(sum(num))\n",
    "answer=\"\".join(str(i) for i in answer)\n",
    "print(answer)\n"
   ]
  }
 ],
 "metadata": {
  "kernelspec": {
   "display_name": "Python 3 (ipykernel)",
   "language": "python",
   "name": "python3"
  },
  "language_info": {
   "codemirror_mode": {
    "name": "ipython",
    "version": 3
   },
   "file_extension": ".py",
   "mimetype": "text/x-python",
   "name": "python",
   "nbconvert_exporter": "python",
   "pygments_lexer": "ipython3",
   "version": "3.8.5"
  }
 },
 "nbformat": 4,
 "nbformat_minor": 4
}
