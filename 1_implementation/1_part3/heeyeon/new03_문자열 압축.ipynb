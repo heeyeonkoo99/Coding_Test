{
 "cells": [
  {
   "cell_type": "code",
   "execution_count": 2,
   "metadata": {},
   "outputs": [
    {
     "name": "stdout",
     "output_type": "stream",
     "text": [
      "aaa111\n",
      "[0, 1, 2, 3, 4, 5]\n",
      "[0, 2, 4]\n",
      "[0, 3]\n"
     ]
    }
   ],
   "source": [
    "def solution(s):\n",
    "    #스택을 이용한 방식\n",
    "    \n",
    "    length=len(s)\n",
    "    str,count=0,1\n",
    "    cand=[length]\n",
    "\n",
    "\n",
    "    for size in range(1, length):\n",
    "        compressed = \"\"\n",
    "        # string 갯수 단위로 쪼개기 *\n",
    "        splited = [s[i:i+size] for i in range(0, length, size)]#쪼갠 문자열의 리스트를 만들어줌\n",
    "        stack = [[splited[0], 1]] \n",
    "\n",
    "        for unit in splited[1:]:\n",
    "            if stack[-1][str] != unit:  # 바로 이전 문자와 다르다면\n",
    "                stack.append([unit, 1])\n",
    "            else:  # 이전 문자와 다르다면\n",
    "                stack[-1][count] += 1\n",
    "\n",
    "        compressed += ''.join([str(cnt) + w if cnt > 1 else w for w, cnt in stack])\n",
    "        cand.append(len(compressed))\n",
    "\n",
    "    return min(cand)  # 최솟값 리턴"
   ]
  }
 ],
 "metadata": {
  "kernelspec": {
   "display_name": "Python 3 (ipykernel)",
   "language": "python",
   "name": "python3"
  },
  "language_info": {
   "codemirror_mode": {
    "name": "ipython",
    "version": 3
   },
   "file_extension": ".py",
   "mimetype": "text/x-python",
   "name": "python",
   "nbconvert_exporter": "python",
   "pygments_lexer": "ipython3",
   "version": "3.8.5"
  }
 },
 "nbformat": 4,
 "nbformat_minor": 4
}
