{
 "cells": [
  {
   "cell_type": "code",
   "execution_count": 6,
   "metadata": {},
   "outputs": [
    {
     "name": "stdout",
     "output_type": "stream",
     "text": [
      "5 6\n",
      "101010\n",
      "111111\n",
      "000001\n",
      "111111\n",
      "111111\n",
      "10\n"
     ]
    }
   ],
   "source": [
    "from collections import deque\n",
    "\n",
    "N,M=map(int,input().split())\n",
    "graph=[0 for _ in range(N)]\n",
    "\n",
    "for i in range(N):\n",
    "    graph[i]=list(map(int,input()))\n",
    "#print(graph)\n",
    "\n",
    "dr=[-1,1,0,0]\n",
    "dc=[0,0,-1,1]\n",
    "\n",
    "queue=deque()\n",
    "queue.append((0,0)) #처음 출발장소\n",
    "\n",
    "while queue:\n",
    "    r,c=queue.popleft() #각각 row,column의 줄임말인 r,c로 둔다.\n",
    "    for i in range(len(dr)):\n",
    "        nr=r+dr[i]\n",
    "        nc=c+dc[i]\n",
    "        if 0<=nr<=(N-1) and 0<=nc<=(M-1) and graph[nr][nc]==1: #책에 있는 SOL보다 좀더 간략히 표시해봄..!\n",
    "            graph[nr][nc]=graph[r][c]+1\n",
    "            queue.append((nr,nc))\n",
    "        else:\n",
    "            continue\n",
    "        \n",
    "print(graph[N-1][M-1])\n",
    "\n"
   ]
  }
 ],
 "metadata": {
  "kernelspec": {
   "display_name": "Python 3 (ipykernel)",
   "language": "python",
   "name": "python3"
  },
  "language_info": {
   "codemirror_mode": {
    "name": "ipython",
    "version": 3
   },
   "file_extension": ".py",
   "mimetype": "text/x-python",
   "name": "python",
   "nbconvert_exporter": "python",
   "pygments_lexer": "ipython3",
   "version": "3.8.5"
  }
 },
 "nbformat": 4,
 "nbformat_minor": 4
}
