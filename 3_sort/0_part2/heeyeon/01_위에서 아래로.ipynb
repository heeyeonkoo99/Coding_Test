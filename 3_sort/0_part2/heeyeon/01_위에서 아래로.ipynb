{
 "cells": [
  {
   "cell_type": "code",
   "execution_count": 4,
   "metadata": {},
   "outputs": [
    {
     "name": "stdout",
     "output_type": "stream",
     "text": [
      "3\n",
      "15\n",
      "27\n",
      "12\n",
      "27 15 12\n"
     ]
    }
   ],
   "source": [
    "n=int(input())\n",
    "nums=[]\n",
    "\n",
    "for _ in range(n):\n",
    "    nums.append(int(input()))\n",
    "nums.sort(reverse=True)\n",
    "nums=[str(i) for i in nums]\n",
    "answer=\" \".join(nums)\n",
    "print(answer)"
   ]
  }
 ],
 "metadata": {
  "kernelspec": {
   "display_name": "Python 3 (ipykernel)",
   "language": "python",
   "name": "python3"
  },
  "language_info": {
   "codemirror_mode": {
    "name": "ipython",
    "version": 3
   },
   "file_extension": ".py",
   "mimetype": "text/x-python",
   "name": "python",
   "nbconvert_exporter": "python",
   "pygments_lexer": "ipython3",
   "version": "3.8.5"
  }
 },
 "nbformat": 4,
 "nbformat_minor": 4
}
