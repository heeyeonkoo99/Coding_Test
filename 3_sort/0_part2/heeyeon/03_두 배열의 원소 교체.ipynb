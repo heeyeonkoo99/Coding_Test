{
 "cells": [
  {
   "cell_type": "code",
   "execution_count": 4,
   "metadata": {},
   "outputs": [
    {
     "name": "stdout",
     "output_type": "stream",
     "text": [
      "5 3\n",
      "1 2 5 4 3\n",
      "5 5 6 6 5\n",
      "[1, 2, 3, 4, 5] [6, 6, 5, 5, 5]\n",
      "[6, 6, 5, 4, 5]\n",
      "26\n"
     ]
    }
   ],
   "source": [
    "n,k=map(int,input().split())\n",
    "A=list(map(int,input().split()))\n",
    "B=list(map(int,input().split()))\n",
    "answer=0\n",
    "\n",
    "A.sort()\n",
    "B.sort(reverse=True)\n",
    "\n",
    "print(A,B)\n",
    "\n",
    "for i in range(k): #어차피 최대 k번이니까 그전에 이미 A의 원소가 크면 break걸어줌.\n",
    "    if A[i]>=B[i]:\n",
    "        break\n",
    "    else:\n",
    "        A[i],B[i]=B[i],A[i]\n",
    "print(A)  \n",
    "\n",
    "for i in A:\n",
    "    answer+=i\n",
    "print(answer)\n",
    "    \n"
   ]
  }
 ],
 "metadata": {
  "kernelspec": {
   "display_name": "Python 3 (ipykernel)",
   "language": "python",
   "name": "python3"
  },
  "language_info": {
   "codemirror_mode": {
    "name": "ipython",
    "version": 3
   },
   "file_extension": ".py",
   "mimetype": "text/x-python",
   "name": "python",
   "nbconvert_exporter": "python",
   "pygments_lexer": "ipython3",
   "version": "3.8.5"
  }
 },
 "nbformat": 4,
 "nbformat_minor": 4
}
