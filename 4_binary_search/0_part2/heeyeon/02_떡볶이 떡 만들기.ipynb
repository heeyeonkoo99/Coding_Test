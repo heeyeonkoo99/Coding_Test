{
 "cells": [
  {
   "cell_type": "code",
   "execution_count": null,
   "metadata": {},
   "outputs": [],
   "source": [
    "#원래방식으론..\n",
    "n,m=map(int,input().split())\n",
    "array=list(map(int,input().split()))\n",
    "\n",
    "start=0\n",
    "end=max(array)\n",
    "\n",
    "result=0\n",
    "while(start<=end):\n",
    "    total=0\n",
    "    mid=(start+end)//2\n",
    "    for x in array:\n",
    "        if x>mid:\n",
    "            total+=x-mid\n",
    "    if total<m:\n",
    "        end=mid-1\n",
    "    else:\n",
    "        result=mid\n",
    "        start=mid+1\n",
    "print(answer)\n",
    "    "
   ]
  },
  {
   "cell_type": "code",
   "execution_count": 16,
   "metadata": {},
   "outputs": [
    {
     "name": "stdout",
     "output_type": "stream",
     "text": [
      "4 6\n",
      "19 15 10 17\n",
      "15\n"
     ]
    }
   ],
   "source": [
    "#일단 내방식대로!\n",
    "n,m=map(int,input().split())\n",
    "tteok=list(map(int,input().split()))\n",
    "maximum=max(tteok)\n",
    "flag=False\n",
    "answer=0\n",
    "\n",
    "for i in range(maximum,-1,-1):\n",
    "    total=0\n",
    "    for t in tteok:\n",
    "        if t>=i:\n",
    "            total+=t-i\n",
    "    if total==m:\n",
    "        answer=i\n",
    "        flag=True\n",
    "if flag==True:\n",
    "    print(answer)"
   ]
  }
 ],
 "metadata": {
  "kernelspec": {
   "display_name": "Python 3 (ipykernel)",
   "language": "python",
   "name": "python3"
  },
  "language_info": {
   "codemirror_mode": {
    "name": "ipython",
    "version": 3
   },
   "file_extension": ".py",
   "mimetype": "text/x-python",
   "name": "python",
   "nbconvert_exporter": "python",
   "pygments_lexer": "ipython3",
   "version": "3.8.5"
  }
 },
 "nbformat": 4,
 "nbformat_minor": 4
}
