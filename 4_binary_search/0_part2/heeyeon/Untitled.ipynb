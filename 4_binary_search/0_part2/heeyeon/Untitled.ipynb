{
 "cells": [
  {
   "cell_type": "code",
   "execution_count": 1,
   "metadata": {},
   "outputs": [
    {
     "name": "stdout",
     "output_type": "stream",
     "text": [
      "4 6\n",
      "19 15 10 17\n",
      "19 19\n",
      "19 15\n",
      "19 10\n",
      "19 17\n",
      "18 19\n",
      "18 15\n",
      "18 10\n",
      "18 17\n",
      "17 19\n",
      "17 15\n",
      "17 10\n",
      "17 17\n",
      "16 19\n",
      "16 15\n",
      "16 10\n",
      "16 17\n",
      "15 19\n",
      "15 15\n",
      "15 10\n",
      "15 17\n",
      "14 19\n",
      "14 15\n",
      "14 10\n",
      "14 17\n",
      "13 19\n",
      "13 15\n",
      "13 10\n",
      "13 17\n",
      "12 19\n",
      "12 15\n",
      "12 10\n",
      "12 17\n",
      "11 19\n",
      "11 15\n",
      "11 10\n",
      "11 17\n"
     ]
    }
   ],
   "source": [
    "#일단 내방식대로!\n",
    "n,m=map(int,input().split())\n",
    "tteok=list(map(int,input().split()))\n",
    "minimum=min(tteok)\n",
    "maximum=max(tteok)\n",
    "flag=False\n",
    "answer=0\n",
    "\n",
    "for i in range(maximum,minimum,-1):\n",
    "    total=0\n",
    "    for t in tteok:\n",
    "        print(i,t)\n",
    "        total+=i-t\n",
    "    if total==m:\n",
    "        answer=i\n",
    "        flag=True\n",
    "if flag==True:\n",
    "    print(answer)"
   ]
  },
  {
   "cell_type": "code",
   "execution_count": null,
   "metadata": {},
   "outputs": [],
   "source": []
  }
 ],
 "metadata": {
  "kernelspec": {
   "display_name": "Python 3 (ipykernel)",
   "language": "python",
   "name": "python3"
  },
  "language_info": {
   "codemirror_mode": {
    "name": "ipython",
    "version": 3
   },
   "file_extension": ".py",
   "mimetype": "text/x-python",
   "name": "python",
   "nbconvert_exporter": "python",
   "pygments_lexer": "ipython3",
   "version": "3.8.5"
  }
 },
 "nbformat": 4,
 "nbformat_minor": 4
}
