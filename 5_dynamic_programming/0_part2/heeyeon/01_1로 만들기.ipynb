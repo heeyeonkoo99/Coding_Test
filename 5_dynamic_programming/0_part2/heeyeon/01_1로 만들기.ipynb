{
 "cells": [
  {
   "cell_type": "code",
   "execution_count": null,
   "metadata": {},
   "outputs": [],
   "source": [
    "import sys\n",
    "f = sys.stdin.readline\n",
    "\n",
    "n = int(f())\n",
    "\n",
    "dp = [0] * 100001\n",
    "\n",
    "for i in range(2, n+1):\n",
    "    dp[i] = dp[i-1] + 1\n",
    "    if i % 3 == 0:\n",
    "        dp[i] = min(dp[i], dp[i//3]+1)\n",
    "    if i % 2 == 0:\n",
    "        dp[i] = min(dp[i], dp[i//2]+1)\n",
    "\n",
    "print(dp[n])"
   ]
  },
  {
   "cell_type": "code",
   "execution_count": null,
   "metadata": {},
   "outputs": [],
   "source": [
    "x = int(input())\n",
    "dp = [0,0,1,1]\n",
    "cnt = 0\n",
    "for i in range(4, x+1):\n",
    "    dp.append(dp[i-1]+1)\n",
    "    if i%2 == 0:\n",
    "        dp[i] = min(dp[i//2]+1, dp[i])\n",
    "    if i%3 == 0:\n",
    "        dp[i] = min(dp[i//3]+1, dp[i])\n",
    "print(dp[x])"
   ]
  }
 ],
 "metadata": {
  "kernelspec": {
   "display_name": "Python 3 (ipykernel)",
   "language": "python",
   "name": "python3"
  },
  "language_info": {
   "codemirror_mode": {
    "name": "ipython",
    "version": 3
   },
   "file_extension": ".py",
   "mimetype": "text/x-python",
   "name": "python",
   "nbconvert_exporter": "python",
   "pygments_lexer": "ipython3",
   "version": "3.8.5"
  }
 },
 "nbformat": 4,
 "nbformat_minor": 4
}
