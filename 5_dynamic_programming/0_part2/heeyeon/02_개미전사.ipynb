{
 "cells": [
  {
   "cell_type": "code",
   "execution_count": null,
   "metadata": {},
   "outputs": [],
   "source": [
    "n = int(input())\n",
    "arr = list(mao(int, input().split()))\n",
    "\n",
    "dp = [0] * 100\n",
    "dp[0] = arr[0]\n",
    "dp[1] = max(arr[0] , arr[1])\n",
    "for i in range (2,n):\n",
    "    dp[i] = max(dp[i-1] , dp[i-2] + arr[i])\n",
    "    \n",
    "print (dp[n-1])"
   ]
  }
 ],
 "metadata": {
  "kernelspec": {
   "display_name": "Python 3 (ipykernel)",
   "language": "python",
   "name": "python3"
  },
  "language_info": {
   "codemirror_mode": {
    "name": "ipython",
    "version": 3
   },
   "file_extension": ".py",
   "mimetype": "text/x-python",
   "name": "python",
   "nbconvert_exporter": "python",
   "pygments_lexer": "ipython3",
   "version": "3.8.5"
  }
 },
 "nbformat": 4,
 "nbformat_minor": 4
}
