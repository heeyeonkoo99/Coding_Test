{
 "cells": [
  {
   "cell_type": "code",
   "execution_count": null,
   "metadata": {},
   "outputs": [],
   "source": [
    "import sys\n",
    "\n",
    "\n",
    "# input\n",
    "n, m = map(int, input().split())\n",
    "maximum = 10001\n",
    "money_list= []\n",
    "for _ in range(n):\n",
    "    money_list.append(int(input()))\n",
    "\n",
    "# DP용 리스트\n",
    "d = [maximum] * (m + 1)\n",
    "\n",
    "# 값 처리\n",
    "d[0]= 0\n",
    "d[min(money_list)] = 1\n",
    "for i in range(min(money_list), m+1):\n",
    "    for money in money_list:\n",
    "        # 음수가 되면 중단\n",
    "        if i-money < 0:\n",
    "            break\n",
    "        else:\n",
    "            d[i] = min(d[i], d[i-money]+1) # 최소값 갱신\n",
    "\n",
    "# 출력불가시\n",
    "if d[m] == maximum:\n",
    "    print(-1)\n",
    "# 그외\n",
    "else:\n",
    "    print(d)"
   ]
  }
 ],
 "metadata": {
  "kernelspec": {
   "display_name": "Python 3 (ipykernel)",
   "language": "python",
   "name": "python3"
  },
  "language_info": {
   "codemirror_mode": {
    "name": "ipython",
    "version": 3
   },
   "file_extension": ".py",
   "mimetype": "text/x-python",
   "name": "python",
   "nbconvert_exporter": "python",
   "pygments_lexer": "ipython3",
   "version": "3.8.5"
  }
 },
 "nbformat": 4,
 "nbformat_minor": 4
}
