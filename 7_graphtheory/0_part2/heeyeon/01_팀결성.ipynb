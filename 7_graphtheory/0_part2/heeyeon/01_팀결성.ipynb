{
 "cells": [
  {
   "cell_type": "code",
   "execution_count": null,
   "metadata": {},
   "outputs": [],
   "source": [
    "#[크루스칼 알고리즘]\n",
    "\n",
    "def find_parent(parent, x):\n",
    "    if parent[x]!=x:\n",
    "        parent[x]=find_parent(parent,parent[x])\n",
    "    return parent[x]\n",
    "\n",
    "def union_parent(parent,a,b):\n",
    "    a=find_parent(parent,s)\n",
    "    b=find_parent(parent,b)\n",
    "    if a<b:\n",
    "        parent[b]=a\n",
    "    else:\n",
    "        parent[a]=b\n",
    "\n",
    "v,e=map(int,input().split())\n",
    "parent=[0]*(v+1)\n",
    "\n",
    "edges=[]\n",
    "result=0\n",
    "\n",
    "for i in range(1,v+1):\n",
    "    parent[i]=i\n",
    "    \n",
    "for _ in range(e):\n",
    "    a,b,cost=map(int,input().split())\n",
    "    edges.append((cost,a,b))\n",
    "    \n",
    "edges.sort()\n",
    "\n",
    "for edge in edges:\n",
    "    cost,a,b=edge\n",
    "    if find_parent(parent,a)!=find_parent(parent,b):\n",
    "        union_parent(parent,a,b)\n",
    "        result+=1\n",
    "print(result)"
   ]
  },
  {
   "cell_type": "code",
   "execution_count": 5,
   "metadata": {},
   "outputs": [
    {
     "name": "stdout",
     "output_type": "stream",
     "text": [
      "7 8\n",
      "0 1 3\n",
      "1 1 7\n",
      "0 7 6\n",
      "1 7 1\n",
      "0 3 7\n",
      "0 4 2\n",
      "0 1 1\n",
      "1 1 1\n",
      "YES\n",
      "YES\n",
      "YES\n"
     ]
    }
   ],
   "source": [
    "#[크루스칼 알고리즘]\n",
    "\n",
    "def find_parent(parent, x):\n",
    "    if parent[x]!=x:\n",
    "        parent[x]=find_parent(parent,parent[x])\n",
    "    return parent[x]\n",
    "\n",
    "def union_parent(parent,a,b):\n",
    "    a=find_parent(parent,a)\n",
    "    b=find_parent(parent,b)\n",
    "    if a<b:\n",
    "        parent[b]=a\n",
    "    else:\n",
    "        parent[a]=b\n",
    "\n",
    "n,m=map(int,input().split())\n",
    "parent=[0]*(n+1)\n",
    "\n",
    "edges=[]\n",
    "result=0\n",
    "\n",
    "for i in range(1,n+1):\n",
    "    parent[i]=i\n",
    "    \n",
    "for _ in range(m):\n",
    "    cal,a,b=map(int,input().split())\n",
    "    edges.append((cal,a,b))\n",
    "    \n",
    "#edges.sort() =>sort유무에 따라 답이 다르다.\n",
    "\n",
    "for edge in edges:\n",
    "    \n",
    "    cal,a,b=edge\n",
    "    if cal==0:\n",
    "        union_parent(parent,a,b)\n",
    "    else:\n",
    "        if find_parent(parent,a)!=find_parent(parent,b):\n",
    "            print(\"NO\")\n",
    "        else:\n",
    "            print(\"YES\")\n"
   ]
  }
 ],
 "metadata": {
  "kernelspec": {
   "display_name": "Python 3 (ipykernel)",
   "language": "python",
   "name": "python3"
  },
  "language_info": {
   "codemirror_mode": {
    "name": "ipython",
    "version": 3
   },
   "file_extension": ".py",
   "mimetype": "text/x-python",
   "name": "python",
   "nbconvert_exporter": "python",
   "pygments_lexer": "ipython3",
   "version": "3.8.5"
  }
 },
 "nbformat": 4,
 "nbformat_minor": 4
}
