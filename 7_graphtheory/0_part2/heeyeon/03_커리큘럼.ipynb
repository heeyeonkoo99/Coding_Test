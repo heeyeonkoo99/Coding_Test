{
 "cells": [
  {
   "cell_type": "code",
   "execution_count": 14,
   "metadata": {},
   "outputs": [
    {
     "name": "stdout",
     "output_type": "stream",
     "text": [
      "3 2 1\n",
      "1 2 4\n",
      "1 3 2\n",
      "[1000000000, 0, 4, 2]\n",
      "[0, 4, 2]\n",
      "2 4\n"
     ]
    }
   ],
   "source": [
    "#플로이드 워셜로..\n",
    "\n",
    "INF = int(1e9) # 무한을 의미하는 값으로 10억을 설정\n",
    "\n",
    "N,M,C=map(int,input().split())\n",
    "# 2차원 리스트(그래프 표현)를 만들고, 모든 값을 무한으로 초기화\n",
    "graph = [[INF] * (N + 1) for _ in range(N + 1)]\n",
    "\n",
    "# 자기 자신에서 자기 자신으로 가는 비용은 0으로 초기화\n",
    "for a in range(1, N + 1):\n",
    "    for b in range(1, N + 1):\n",
    "        if a == b:\n",
    "            graph[a][b] = 0\n",
    "            \n",
    "            \n",
    "for _ in range(M):\n",
    "    X,Y,Z=map(int,input().split())\n",
    "    graph[X][Y]=Z\n",
    "    \n",
    "# 점화식에 따라 플로이드 워셜 알고리즘을 수행\n",
    "for k in range(1, N + 1):\n",
    "    for a in range(1, N + 1):\n",
    "        for b in range(1, N + 1):\n",
    "            graph[a][b] = min(graph[a][b], graph[a][k] + graph[k][b])\n",
    "            \n",
    "#print(graph)-체크용\n",
    "\n",
    "total_num,total_time=-1,0\n",
    "print(graph[C])\n",
    "for i in graph[C]:\n",
    "    if i is not INF or 0:\n",
    "        total_num+=1\n",
    "\n",
    "for i in graph[C]:\n",
    "    if i is INF:\n",
    "        graph[C].remove(i)\n",
    "print(graph[C])        \n",
    "\n",
    "total_time=max(graph[C])\n",
    "print(total_num,total_time )\n",
    "    \n",
    "\n",
    "\n",
    "    "
   ]
  }
 ],
 "metadata": {
  "kernelspec": {
   "display_name": "Python 3 (ipykernel)",
   "language": "python",
   "name": "python3"
  },
  "language_info": {
   "codemirror_mode": {
    "name": "ipython",
    "version": 3
   },
   "file_extension": ".py",
   "mimetype": "text/x-python",
   "name": "python",
   "nbconvert_exporter": "python",
   "pygments_lexer": "ipython3",
   "version": "3.8.5"
  }
 },
 "nbformat": 4,
 "nbformat_minor": 4
}
