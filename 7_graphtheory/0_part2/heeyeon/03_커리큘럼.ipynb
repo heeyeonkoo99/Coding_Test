{
 "cells": [
  {
   "cell_type": "code",
   "execution_count": null,
   "metadata": {},
   "outputs": [],
   "source": [
    "from collections import deque\n",
    "from copy import deepcopy\n",
    "\n",
    "n=int(input())\n",
    "indegree=[0]*(n+1)\n",
    "graph=[[] for _ in range(n+1)]\n",
    "time=[0]*(n+1)\n",
    "inputlist=[list(map(int,input().split())) for _ in range(n)]\n",
    "\n",
    "for i,in_val in enumerate(inputlist):\n",
    "    i+=1\n",
    "    time[i]=in_val[0]\n",
    "    for val in in_val[1:-1]:\n",
    "        indegree[i]+=1\n",
    "        graph[val].append(i)\n",
    "\n",
    "def topology_sort():\n",
    "    result=deepcopy(time)\n",
    "    q=deque()\n",
    "\n",
    "    for i in range(1,n+1):\n",
    "        if indegree[i]==0:\n",
    "            q.append(i)\n",
    "    \n",
    "    while q:\n",
    "        now = q.popleft()\n",
    "        for i in graph[now]:\n",
    "            result[i]=max(result[i],result[now]+time[i])\n",
    "            indegree[i]-=1\n",
    "            if indegree[i]==0:\n",
    "                q.append(i)\n",
    "\n",
    "    for i in range(1,n+1):\n",
    "        print(result[i])\n",
    "\n",
    "topology_sort()"
   ]
  },
  {
   "cell_type": "code",
   "execution_count": null,
   "metadata": {},
   "outputs": [],
   "source": []
  }
 ],
 "metadata": {
  "kernelspec": {
   "display_name": "Python 3 (ipykernel)",
   "language": "python",
   "name": "python3"
  },
  "language_info": {
   "codemirror_mode": {
    "name": "ipython",
    "version": 3
   },
   "file_extension": ".py",
   "mimetype": "text/x-python",
   "name": "python",
   "nbconvert_exporter": "python",
   "pygments_lexer": "ipython3",
   "version": "3.8.5"
  }
 },
 "nbformat": 4,
 "nbformat_minor": 4
}
